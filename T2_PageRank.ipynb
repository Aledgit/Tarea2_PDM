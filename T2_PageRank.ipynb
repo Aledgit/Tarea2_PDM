{
  "cells": [
    {
      "cell_type": "markdown",
      "metadata": {
        "id": "d7RbbAt_Aysx"
      },
      "source": [
        "# <img style=\"float: left; padding-right: 0.7cm; width: 3.0cm\" src=\"https://upload.wikimedia.org/wikipedia/commons/thumb/8/84/Escudo_de_la_Pontificia_Universidad_Cat%C3%B3lica_de_Chile.svg/179px-Escudo_de_la_Pontificia_Universidad_Cat%C3%B3lica_de_Chile.svg.png\">IIC2440 - Procesamiento de Datos Masivos\n",
        "Pontificia Universidad Católica de Chile<br>\n",
        "Semestre 2023-1<br>\n",
        "Profesores: Adrián Soto y Juan Reutter <br>\n",
        "Estudiantes: Eduardo Alvarez F y Javier Arriagada S\n",
        "\n",
        "----"
      ]
    },
    {
      "cell_type": "code",
      "execution_count": 1,
      "metadata": {
        "colab": {
          "base_uri": "https://localhost:8080/"
        },
        "id": "Zj1Igz1qCaYn",
        "outputId": "5d7cdf58-065e-4673-fc39-fa380c7a5462"
      },
      "outputs": [
        {
          "output_type": "stream",
          "name": "stdout",
          "text": [
            "Collecting pyspark\n",
            "  Downloading pyspark-3.4.1.tar.gz (310.8 MB)\n",
            "\u001b[2K     \u001b[90m━━━━━━━━━━━━━━━━━━━━━━━━━━━━━━━━━━━━━━━\u001b[0m \u001b[32m310.8/310.8 MB\u001b[0m \u001b[31m2.9 MB/s\u001b[0m eta \u001b[36m0:00:00\u001b[0m\n",
            "\u001b[?25h  Preparing metadata (setup.py) ... \u001b[?25l\u001b[?25hdone\n",
            "Requirement already satisfied: py4j==0.10.9.7 in /usr/local/lib/python3.10/dist-packages (from pyspark) (0.10.9.7)\n",
            "Building wheels for collected packages: pyspark\n",
            "  Building wheel for pyspark (setup.py) ... \u001b[?25l\u001b[?25hdone\n",
            "  Created wheel for pyspark: filename=pyspark-3.4.1-py2.py3-none-any.whl size=311285398 sha256=989165268aeb2b7bb3d3395e5e7eeaaba54973d86c6343d88c78dec4574ae928\n",
            "  Stored in directory: /root/.cache/pip/wheels/0d/77/a3/ff2f74cc9ab41f8f594dabf0579c2a7c6de920d584206e0834\n",
            "Successfully built pyspark\n",
            "Installing collected packages: pyspark\n",
            "Successfully installed pyspark-3.4.1\n"
          ]
        }
      ],
      "source": [
        "!pip install pyspark"
      ]
    },
    {
      "cell_type": "code",
      "execution_count": 7,
      "metadata": {
        "id": "gCSs3vNjAuDH"
      },
      "outputs": [],
      "source": [
        "from pyspark import SparkConf, SparkContext\n",
        "import numpy as np\n",
        "import networkx as nx\n",
        "import random"
      ]
    },
    {
      "cell_type": "markdown",
      "metadata": {
        "id": "ErkCUhXFyNIO"
      },
      "source": [
        "# 1. Page Rank"
      ]
    },
    {
      "cell_type": "code",
      "execution_count": 3,
      "metadata": {
        "id": "X0mNkx6jCqWO"
      },
      "outputs": [],
      "source": [
        "conf = SparkConf().setMaster(\"local\").setAppName(\"PageRank\")\n",
        "sc = SparkContext(conf = conf)"
      ]
    },
    {
      "cell_type": "markdown",
      "source": [
        "Generamos un tamaño n de nodos, a partir de los cuales creamos n3/2 de aristas. (Para no importar un archivo, aunque igual se podria hacer de esa manera)"
      ],
      "metadata": {
        "id": "pKYdx6RUtxhV"
      }
    },
    {
      "cell_type": "code",
      "source": [
        "num_nodes = 100\n",
        "nodes = list(range(1,num_nodes +1))\n",
        "G = nx.Graph()\n",
        "G.add_nodes_from(range(1, num_nodes + 1))\n",
        "\n",
        "# el 3/2 es solo por facilidad. Aumentar de ser necesario\n",
        "num_edges = int(num_nodes *3/2)\n",
        "edges = []\n",
        "for _ in range(num_edges):\n",
        "    node1 = random.randint(1, num_nodes)\n",
        "    node2 = random.randint(1, num_nodes)\n",
        "    while node2 == node1 or G.has_edge(node1, node2):\n",
        "      node2 = random.randint(1, num_nodes)\n",
        "    G.add_edge(node1, node2)\n",
        "\n",
        "    edges.append((node1, node2))"
      ],
      "metadata": {
        "id": "YDlOHOYJzMdq"
      },
      "execution_count": 8,
      "outputs": []
    },
    {
      "cell_type": "code",
      "execution_count": 9,
      "metadata": {
        "colab": {
          "base_uri": "https://localhost:8080/"
        },
        "id": "_QzYxE-dDASP",
        "outputId": "aa854cff-5da5-4ac4-b128-95081dc37583"
      },
      "outputs": [
        {
          "output_type": "execute_result",
          "data": {
            "text/plain": [
              "[(1, 0.01),\n",
              " (2, 0.01),\n",
              " (3, 0.01),\n",
              " (4, 0.01),\n",
              " (5, 0.01),\n",
              " (6, 0.01),\n",
              " (7, 0.01),\n",
              " (8, 0.01),\n",
              " (9, 0.01),\n",
              " (10, 0.01),\n",
              " (11, 0.01),\n",
              " (12, 0.01),\n",
              " (13, 0.01),\n",
              " (14, 0.01),\n",
              " (15, 0.01),\n",
              " (16, 0.01),\n",
              " (17, 0.01),\n",
              " (18, 0.01),\n",
              " (19, 0.01),\n",
              " (20, 0.01),\n",
              " (21, 0.01),\n",
              " (22, 0.01),\n",
              " (23, 0.01),\n",
              " (24, 0.01),\n",
              " (25, 0.01),\n",
              " (26, 0.01),\n",
              " (27, 0.01),\n",
              " (28, 0.01),\n",
              " (29, 0.01),\n",
              " (30, 0.01),\n",
              " (31, 0.01),\n",
              " (32, 0.01),\n",
              " (33, 0.01),\n",
              " (34, 0.01),\n",
              " (35, 0.01),\n",
              " (36, 0.01),\n",
              " (37, 0.01),\n",
              " (38, 0.01),\n",
              " (39, 0.01),\n",
              " (40, 0.01),\n",
              " (41, 0.01),\n",
              " (42, 0.01),\n",
              " (43, 0.01),\n",
              " (44, 0.01),\n",
              " (45, 0.01),\n",
              " (46, 0.01),\n",
              " (47, 0.01),\n",
              " (48, 0.01),\n",
              " (49, 0.01),\n",
              " (50, 0.01),\n",
              " (51, 0.01),\n",
              " (52, 0.01),\n",
              " (53, 0.01),\n",
              " (54, 0.01),\n",
              " (55, 0.01),\n",
              " (56, 0.01),\n",
              " (57, 0.01),\n",
              " (58, 0.01),\n",
              " (59, 0.01),\n",
              " (60, 0.01),\n",
              " (61, 0.01),\n",
              " (62, 0.01),\n",
              " (63, 0.01),\n",
              " (64, 0.01),\n",
              " (65, 0.01),\n",
              " (66, 0.01),\n",
              " (67, 0.01),\n",
              " (68, 0.01),\n",
              " (69, 0.01),\n",
              " (70, 0.01),\n",
              " (71, 0.01),\n",
              " (72, 0.01),\n",
              " (73, 0.01),\n",
              " (74, 0.01),\n",
              " (75, 0.01),\n",
              " (76, 0.01),\n",
              " (77, 0.01),\n",
              " (78, 0.01),\n",
              " (79, 0.01),\n",
              " (80, 0.01),\n",
              " (81, 0.01),\n",
              " (82, 0.01),\n",
              " (83, 0.01),\n",
              " (84, 0.01),\n",
              " (85, 0.01),\n",
              " (86, 0.01),\n",
              " (87, 0.01),\n",
              " (88, 0.01),\n",
              " (89, 0.01),\n",
              " (90, 0.01),\n",
              " (91, 0.01),\n",
              " (92, 0.01),\n",
              " (93, 0.01),\n",
              " (94, 0.01),\n",
              " (95, 0.01),\n",
              " (96, 0.01),\n",
              " (97, 0.01),\n",
              " (98, 0.01),\n",
              " (99, 0.01),\n",
              " (100, 0.01)]"
            ]
          },
          "metadata": {},
          "execution_count": 9
        }
      ],
      "source": [
        "# Crear RDD para nodos y edges\n",
        "nodes_rdd = sc.parallelize(nodes)\n",
        "edges_rdd = sc.parallelize(edges)\n",
        "\n",
        "n  = int(nodes_rdd.count())\n",
        "\n",
        "# Inicializar PageRank para cada nodo\n",
        "initial_pagerank = 1/n\n",
        "node_pageranks_rdd = nodes_rdd.map(lambda node: (node, initial_pagerank))\n",
        "\n",
        "# Mostrar el RDD con los PageRanks iniciales\n",
        "node_pageranks_rdd.collect()"
      ]
    },
    {
      "cell_type": "code",
      "execution_count": 10,
      "metadata": {
        "id": "B2XWN_rCePDe"
      },
      "outputs": [],
      "source": [
        "# Obtener los vecinos de cada nodo\n",
        "node_neighbors_rdd = edges_rdd.groupByKey()"
      ]
    },
    {
      "cell_type": "code",
      "execution_count": 11,
      "metadata": {
        "id": "f_K-yY3DfpXw"
      },
      "outputs": [],
      "source": [
        "def prepare_message(node, neighbors, pagerank):\n",
        "  n = len(neighbors)\n",
        "  messages = list()\n",
        "  if n > 0:\n",
        "    for neighbor in neighbors:\n",
        "      message = (neighbor, pagerank / n)\n",
        "      messages.append(message)\n",
        "\n",
        "  return messages"
      ]
    },
    {
      "cell_type": "code",
      "execution_count": 12,
      "metadata": {
        "id": "Rb-_qemFhKpF"
      },
      "outputs": [],
      "source": [
        "messages_rdd = node_pageranks_rdd.join(node_neighbors_rdd).flatMap(lambda node: prepare_message(node[0], node[1][1], node[1][0])).collect()\n",
        "\n",
        "incoming = list(set([message[0] for message in messages_rdd]))\n",
        "non_incoming = [node for node in nodes if node not in incoming]\n",
        "\n",
        "for node in non_incoming:\n",
        "  messages_rdd.append((node, 0))\n",
        "\n",
        "messages_rdd = sc.parallelize(messages_rdd)"
      ]
    },
    {
      "cell_type": "code",
      "execution_count": 13,
      "metadata": {
        "colab": {
          "base_uri": "https://localhost:8080/"
        },
        "id": "BCJrsbb_kEqv",
        "outputId": "3633dd14-f7f8-4e97-94cf-d34657eb6b27"
      },
      "outputs": [
        {
          "output_type": "execute_result",
          "data": {
            "text/plain": [
              "[(7, 0.035),\n",
              " (97, 0.015),\n",
              " (29, 0.01),\n",
              " (100, 0.014166666666666668),\n",
              " (50, 0.025),\n",
              " (26, 0.015),\n",
              " (72, 0.008333333333333333),\n",
              " (10, 0.019166666666666665),\n",
              " (3, 0.0033333333333333335),\n",
              " (43, 0.015),\n",
              " (36, 0.008333333333333333),\n",
              " (19, 0.013333333333333332),\n",
              " (44, 0.013333333333333332),\n",
              " (86, 0.011666666666666667),\n",
              " (47, 0.0225),\n",
              " (12, 0.01),\n",
              " (89, 0.011666666666666667),\n",
              " (95, 0.016666666666666666),\n",
              " (16, 0.015833333333333335),\n",
              " (53, 0.0075),\n",
              " (51, 0.0025),\n",
              " (74, 0.0025),\n",
              " (76, 0.018666666666666668),\n",
              " (28, 0.004),\n",
              " (68, 0.0045000000000000005),\n",
              " (41, 0.0145),\n",
              " (46, 0.002),\n",
              " (84, 0.0175),\n",
              " (9, 0.005833333333333334),\n",
              " (40, 0.02),\n",
              " (18, 0.0325),\n",
              " (59, 0.018333333333333333),\n",
              " (80, 0.0033333333333333335),\n",
              " (65, 0.018333333333333333),\n",
              " (66, 0.005833333333333334),\n",
              " (71, 0.008333333333333333),\n",
              " (32, 0.005),\n",
              " (92, 0.015),\n",
              " (15, 0.01),\n",
              " (79, 0.01),\n",
              " (30, 0.008333333333333333),\n",
              " (5, 0.01),\n",
              " (6, 0.0033333333333333335),\n",
              " (20, 0.011666666666666667),\n",
              " (54, 0.01),\n",
              " (62, 0.01),\n",
              " (58, 0.01),\n",
              " (34, 0.0025),\n",
              " (8, 0.0025),\n",
              " (2, 0.0125),\n",
              " (4, 0.005),\n",
              " (38, 0.005333333333333334),\n",
              " (98, 0.006666666666666667),\n",
              " (88, 0.013333333333333334),\n",
              " (14, 0.005),\n",
              " (83, 0.008333333333333333),\n",
              " (64, 0.012),\n",
              " (42, 0.002),\n",
              " (93, 0.002),\n",
              " (31, 0.0033333333333333335),\n",
              " (52, 0.0033333333333333335),\n",
              " (99, 0.0033333333333333335),\n",
              " (25, 0.0033333333333333335),\n",
              " (1, 0.015833333333333335),\n",
              " (21, 0.005833333333333334),\n",
              " (73, 0.01),\n",
              " (81, 0.018333333333333333),\n",
              " (85, 0.01),\n",
              " (17, 0.005),\n",
              " (91, 0.03),\n",
              " (96, 0.005),\n",
              " (94, 0.005),\n",
              " (45, 0.005),\n",
              " (24, 0.0033333333333333335),\n",
              " (49, 0.0033333333333333335),\n",
              " (11, 0),\n",
              " (13, 0),\n",
              " (22, 0),\n",
              " (23, 0),\n",
              " (27, 0),\n",
              " (33, 0),\n",
              " (35, 0),\n",
              " (37, 0),\n",
              " (39, 0),\n",
              " (48, 0),\n",
              " (55, 0),\n",
              " (56, 0),\n",
              " (57, 0),\n",
              " (60, 0),\n",
              " (61, 0),\n",
              " (63, 0),\n",
              " (67, 0),\n",
              " (69, 0),\n",
              " (70, 0),\n",
              " (75, 0),\n",
              " (77, 0),\n",
              " (78, 0),\n",
              " (82, 0),\n",
              " (87, 0),\n",
              " (90, 0)]"
            ]
          },
          "metadata": {},
          "execution_count": 13
        }
      ],
      "source": [
        "node_received_messages_rdd = messages_rdd.reduceByKey(lambda x, y: x + y)\n",
        "node_received_messages_rdd.collect()"
      ]
    },
    {
      "cell_type": "code",
      "execution_count": 14,
      "metadata": {
        "id": "Da4xoCypmfig"
      },
      "outputs": [],
      "source": [
        "damping_factor = 0.85\n",
        "\n",
        "def update_pagerank(node, pagerank, damping_factor, messages, n):\n",
        "    updated_pagerank = (1 - damping_factor)/n + damping_factor * messages\n",
        "    return (node, updated_pagerank)\n",
        "\n",
        "node_updated_pageranks_rdd = node_received_messages_rdd.join(node_pageranks_rdd).map(lambda node: update_pagerank(node[0], node[1][1], damping_factor, node[1][0], n))"
      ]
    },
    {
      "cell_type": "code",
      "execution_count": 15,
      "metadata": {
        "colab": {
          "base_uri": "https://localhost:8080/"
        },
        "id": "uiXE-JkYaE0M",
        "outputId": "f3474b0f-d8aa-4cfe-a6ab-90f61cf479a0"
      },
      "outputs": [
        {
          "output_type": "execute_result",
          "data": {
            "text/plain": [
              "[(100, 0.013541666666666667),\n",
              " (50, 0.022750000000000003),\n",
              " (26, 0.014249999999999999),\n",
              " (72, 0.008583333333333333),\n",
              " (10, 0.017791666666666667),\n",
              " (36, 0.008583333333333333),\n",
              " (44, 0.012833333333333332),\n",
              " (86, 0.011416666666666667),\n",
              " (12, 0.01),\n",
              " (16, 0.014958333333333334),\n",
              " (74, 0.0036250000000000006),\n",
              " (76, 0.01736666666666667),\n",
              " (28, 0.0049),\n",
              " (68, 0.005325000000000001),\n",
              " (46, 0.0032),\n",
              " (84, 0.016375),\n",
              " (40, 0.018500000000000003),\n",
              " (18, 0.029125),\n",
              " (80, 0.004333333333333334),\n",
              " (66, 0.006458333333333334),\n",
              " (32, 0.005750000000000001),\n",
              " (92, 0.014249999999999999),\n",
              " (30, 0.008583333333333333),\n",
              " (6, 0.004333333333333334),\n",
              " (20, 0.011416666666666667),\n",
              " (54, 0.01),\n",
              " (62, 0.01),\n",
              " (58, 0.01),\n",
              " (34, 0.0036250000000000006),\n",
              " (8, 0.0036250000000000006),\n",
              " (2, 0.012125),\n",
              " (4, 0.005750000000000001),\n",
              " (38, 0.006033333333333334),\n",
              " (98, 0.0071666666666666675),\n",
              " (88, 0.012833333333333334),\n",
              " (14, 0.005750000000000001),\n",
              " (64, 0.0117),\n",
              " (42, 0.0032),\n",
              " (52, 0.004333333333333334),\n",
              " (96, 0.005750000000000001),\n",
              " (94, 0.005750000000000001),\n",
              " (24, 0.004333333333333334),\n",
              " (22, 0.0015000000000000002),\n",
              " (48, 0.0015000000000000002),\n",
              " (56, 0.0015000000000000002),\n",
              " (60, 0.0015000000000000002),\n",
              " (70, 0.0015000000000000002),\n",
              " (78, 0.0015000000000000002),\n",
              " (82, 0.0015000000000000002),\n",
              " (90, 0.0015000000000000002),\n",
              " (7, 0.03125),\n",
              " (97, 0.014249999999999999),\n",
              " (29, 0.01),\n",
              " (3, 0.004333333333333334),\n",
              " (43, 0.014249999999999999),\n",
              " (19, 0.012833333333333332),\n",
              " (47, 0.020625),\n",
              " (89, 0.011416666666666667),\n",
              " (95, 0.015666666666666666),\n",
              " (53, 0.007875),\n",
              " (51, 0.0036250000000000006),\n",
              " (41, 0.013825),\n",
              " (9, 0.006458333333333334),\n",
              " (59, 0.017083333333333332),\n",
              " (65, 0.017083333333333332),\n",
              " (71, 0.008583333333333333),\n",
              " (15, 0.01),\n",
              " (79, 0.01),\n",
              " (5, 0.01),\n",
              " (83, 0.008583333333333333),\n",
              " (93, 0.0032),\n",
              " (31, 0.004333333333333334),\n",
              " (99, 0.004333333333333334),\n",
              " (25, 0.004333333333333334),\n",
              " (1, 0.014958333333333334),\n",
              " (21, 0.006458333333333334),\n",
              " (73, 0.01),\n",
              " (81, 0.017083333333333332),\n",
              " (85, 0.01),\n",
              " (17, 0.005750000000000001),\n",
              " (91, 0.027),\n",
              " (45, 0.005750000000000001),\n",
              " (49, 0.004333333333333334),\n",
              " (11, 0.0015000000000000002),\n",
              " (13, 0.0015000000000000002),\n",
              " (23, 0.0015000000000000002),\n",
              " (27, 0.0015000000000000002),\n",
              " (33, 0.0015000000000000002),\n",
              " (35, 0.0015000000000000002),\n",
              " (37, 0.0015000000000000002),\n",
              " (39, 0.0015000000000000002),\n",
              " (55, 0.0015000000000000002),\n",
              " (57, 0.0015000000000000002),\n",
              " (61, 0.0015000000000000002),\n",
              " (63, 0.0015000000000000002),\n",
              " (67, 0.0015000000000000002),\n",
              " (69, 0.0015000000000000002),\n",
              " (75, 0.0015000000000000002),\n",
              " (77, 0.0015000000000000002),\n",
              " (87, 0.0015000000000000002)]"
            ]
          },
          "metadata": {},
          "execution_count": 15
        }
      ],
      "source": [
        "node_updated_pageranks_rdd.collect()"
      ]
    },
    {
      "cell_type": "code",
      "execution_count": 16,
      "metadata": {
        "id": "sGSxPaAqmr3s"
      },
      "outputs": [],
      "source": [
        "max_iterations = 20\n",
        "epsilon = 0.0001\n",
        "\n",
        "for iteration in range(max_iterations):\n",
        "\n",
        "  messages_rdd = node_pageranks_rdd.join(node_neighbors_rdd).flatMap(lambda node: prepare_message(node[0], node[1][1], node[1][0])).collect()\n",
        "  incoming = list(set([message[0] for message in messages_rdd]))\n",
        "  non_incoming = [node for node in nodes if node not in incoming]\n",
        "  for node in non_incoming:\n",
        "    messages_rdd.append((node, 0))\n",
        "  messages_rdd = sc.parallelize(messages_rdd)\n",
        "\n",
        "  node_received_messages_rdd = messages_rdd.reduceByKey(lambda x, y: x + y)\n",
        "  node_pageranks_rdd = node_received_messages_rdd.join(node_pageranks_rdd).map(lambda node: update_pagerank(node[0], node[1][1], damping_factor, node[1][0], n))\n",
        "\n",
        "  if iteration > 0:\n",
        "        prev_page_ranks_rdd = pageranks_rdd\n",
        "        diff = prev_page_ranks_rdd.join(node_pageranks_rdd).mapValues(lambda ranks: abs(ranks[0] - ranks[1])).values().sum()\n",
        "\n",
        "        if diff < epsilon:\n",
        "          break\n",
        "\n",
        "  pageranks_rdd = node_pageranks_rdd"
      ]
    },
    {
      "cell_type": "code",
      "execution_count": 17,
      "metadata": {
        "colab": {
          "base_uri": "https://localhost:8080/"
        },
        "id": "WVCNG9Zx67gf",
        "outputId": "8bf10f9b-e670-4123-e40b-27a9a03163b7"
      },
      "outputs": [
        {
          "output_type": "stream",
          "name": "stdout",
          "text": [
            "Node: 38, PageRank: 0.003636807113222504\n",
            "Node: 95, PageRank: 0.010963235891321971\n",
            "Node: 19, PageRank: 0.006658541757603916\n",
            "Node: 76, PageRank: 0.005849762548377464\n",
            "Node: 57, PageRank: 0.0015000000000000002\n",
            "Node: 96, PageRank: 0.0021375000000000005\n",
            "Node: 1, PageRank: 0.00554178383369446\n",
            "Node: 20, PageRank: 0.0042865930749021106\n",
            "Node: 58, PageRank: 0.006992010517768602\n",
            "Node: 39, PageRank: 0.0015000000000000002\n",
            "Node: 77, PageRank: 0.0015000000000000002\n",
            "Node: 2, PageRank: 0.003982161009199527\n",
            "Node: 97, PageRank: 0.0044699953032772905\n",
            "Node: 40, PageRank: 0.009868077642541044\n",
            "Node: 21, PageRank: 0.003333141463393135\n",
            "Node: 59, PageRank: 0.004198750000000001\n",
            "Node: 78, PageRank: 0.0015000000000000002\n",
            "Node: 41, PageRank: 0.0038800389615251474\n",
            "Node: 98, PageRank: 0.00469231217068975\n",
            "Node: 79, PageRank: 0.0056705271640864335\n",
            "Node: 3, PageRank: 0.004819490969580691\n",
            "Node: 22, PageRank: 0.0015000000000000002\n",
            "Node: 60, PageRank: 0.0015000000000000002\n",
            "Node: 42, PageRank: 0.002066634053410217\n",
            "Node: 4, PageRank: 0.003826499025897369\n",
            "Node: 80, PageRank: 0.0019250000000000003\n",
            "Node: 99, PageRank: 0.0019250000000000003\n",
            "Node: 23, PageRank: 0.0015000000000000002\n",
            "Node: 61, PageRank: 0.0015000000000000002\n",
            "Node: 5, PageRank: 0.003724086536458334\n",
            "Node: 81, PageRank: 0.008047990965596056\n",
            "Node: 100, PageRank: 0.005472181630565095\n",
            "Node: 62, PageRank: 0.01505176419199766\n",
            "Node: 43, PageRank: 0.005344911009112609\n",
            "Node: 24, PageRank: 0.0019250000000000003\n",
            "Node: 44, PageRank: 0.00907245973573392\n",
            "Node: 6, PageRank: 0.0021094407031250003\n",
            "Node: 25, PageRank: 0.0019250000000000003\n",
            "Node: 63, PageRank: 0.0015000000000000002\n",
            "Node: 82, PageRank: 0.0015000000000000002\n",
            "Node: 7, PageRank: 0.010227094899377877\n",
            "Node: 64, PageRank: 0.0033416340534102172\n",
            "Node: 26, PageRank: 0.012016172013720506\n",
            "Node: 45, PageRank: 0.0026793750000000003\n",
            "Node: 83, PageRank: 0.004071620563555137\n",
            "Node: 84, PageRank: 0.015942845473949436\n",
            "Node: 65, PageRank: 0.012523911041206613\n",
            "Node: 8, PageRank: 0.0019542187500000002\n",
            "Node: 46, PageRank: 0.0018322171875000003\n",
            "Node: 27, PageRank: 0.0015000000000000002\n",
            "Node: 9, PageRank: 0.0037872132374182823\n",
            "Node: 47, PageRank: 0.004970819485672818\n",
            "Node: 28, PageRank: 0.0023988512409102176\n",
            "Node: 66, PageRank: 0.004905659367847702\n",
            "Node: 85, PageRank: 0.0027750000000000006\n",
            "Node: 86, PageRank: 0.0064597622125206694\n",
            "Node: 10, PageRank: 0.009924105064531143\n",
            "Node: 29, PageRank: 0.0047562524635631565\n",
            "Node: 48, PageRank: 0.0015000000000000002\n",
            "Node: 67, PageRank: 0.0015000000000000002\n",
            "Node: 30, PageRank: 0.004168321994130437\n",
            "Node: 68, PageRank: 0.0021509671875\n",
            "Node: 49, PageRank: 0.0019250000000000003\n",
            "Node: 11, PageRank: 0.0015000000000000002\n",
            "Node: 87, PageRank: 0.0015000000000000002\n",
            "Node: 50, PageRank: 0.010894198428943621\n",
            "Node: 88, PageRank: 0.004706423059812287\n",
            "Node: 12, PageRank: 0.011720624329625036\n",
            "Node: 31, PageRank: 0.0028476219453023466\n",
            "Node: 69, PageRank: 0.0015000000000000002\n",
            "Node: 89, PageRank: 0.006440294116359384\n",
            "Node: 51, PageRank: 0.002386233880112907\n",
            "Node: 32, PageRank: 0.0023181250000000003\n",
            "Node: 13, PageRank: 0.0015000000000000002\n",
            "Node: 70, PageRank: 0.0015000000000000002\n",
            "Node: 71, PageRank: 0.008933609618956962\n",
            "Node: 14, PageRank: 0.0021375000000000005\n",
            "Node: 52, PageRank: 0.0019250000000000003\n",
            "Node: 33, PageRank: 0.0015000000000000002\n",
            "Node: 90, PageRank: 0.0015000000000000002\n",
            "Node: 34, PageRank: 0.0019542187500000002\n",
            "Node: 91, PageRank: 0.007849862979940694\n",
            "Node: 53, PageRank: 0.003204358880112907\n",
            "Node: 15, PageRank: 0.00891207336939965\n",
            "Node: 72, PageRank: 0.011217593209380577\n",
            "Node: 16, PageRank: 0.0037734245269068784\n",
            "Node: 92, PageRank: 0.0046768750000000005\n",
            "Node: 54, PageRank: 0.0027750000000000006\n",
            "Node: 73, PageRank: 0.005725196804684539\n",
            "Node: 35, PageRank: 0.0015000000000000002\n",
            "Node: 93, PageRank: 0.002066634053410217\n",
            "Node: 17, PageRank: 0.006824228097483851\n",
            "Node: 74, PageRank: 0.002386233880112907\n",
            "Node: 36, PageRank: 0.0068667544847592086\n",
            "Node: 55, PageRank: 0.0015000000000000002\n",
            "Node: 18, PageRank: 0.008074364301347852\n",
            "Node: 94, PageRank: 0.0026793750000000003\n",
            "Node: 37, PageRank: 0.0015000000000000002\n",
            "Node: 56, PageRank: 0.0015000000000000002\n",
            "Node: 75, PageRank: 0.0015000000000000002\n"
          ]
        }
      ],
      "source": [
        "final_page_ranks = pageranks_rdd.collect()\n",
        "for node, rank in final_page_ranks:\n",
        "    print(\"Node: {}, PageRank: {}\".format(node, rank))"
      ]
    },
    {
      "cell_type": "markdown",
      "source": [
        "# 3. Una estrategia general"
      ],
      "metadata": {
        "id": "9JBiiUTmqsgy"
      }
    },
    {
      "cell_type": "markdown",
      "source": [
        "1. Preparación de los nodos:\n",
        "\n",
        "Inicializar las propiedades de los nodos, como el valor de PageRank o la distancia más corta en el caso de SSSP.\n",
        "Asignar un identificador único a cada nodo del grafo.\n",
        "\n",
        "2. Regla para pasar mensajes entre nodos:\n",
        "\n",
        "En cada iteración del algoritmo, cada nodo envía mensajes a sus vecinos para compartir información.\n",
        "Los mensajes pueden contener información relevante para el cálculo, como el valor de PageRank actualizado o la distancia más corta encontrada.\n",
        "Los nodos reciben los mensajes enviados por sus vecinos y los utilizan para actualizar su información local.\n",
        "\n",
        "3. Definición de funciones para hacer merge de varios mensajes:\n",
        "\n",
        "Los nodos pueden recibir múltiples mensajes de diferentes vecinos en una iteración.\n",
        "Se debe definir una función de merge que combine los mensajes recibidos en uno solo, considerando la información relevante para el cálculo.\n",
        "Por ejemplo, en el caso de PageRank, los mensajes contienen contribuciones de los vecinos al PageRank del nodo receptor, y la función de merge sumaría estas contribuciones para obtener el nuevo valor de PageRank.\n",
        "\n",
        "4. Actualización de las propiedades de los nodos:\n",
        "\n",
        "Después de cada iteración, los nodos actualizan sus propiedades locales con la información recibida de los mensajes.\n",
        "Por ejemplo, en el caso de PageRank, los nodos actualizan su valor de PageRank con la suma de las contribuciones recibidas de los vecinos.\n",
        "\n",
        "5. Condiciones de término del algoritmo:\n",
        "\n",
        "Se debe establecer un criterio de convergencia para determinar cuándo el algoritmo ha terminado.\n",
        "Por ejemplo, en el caso de PageRank, se puede definir un umbral de cambio máximo en los valores de PageRank de los nodos.\n",
        "Si la diferencia entre los valores de PageRank de dos iteraciones consecutivas es menor que el umbral, se considera que el algoritmo ha convergido y se detiene.\n",
        "\n",
        "\n",
        "\n",
        "\n"
      ],
      "metadata": {
        "id": "OMSajcxnxYMv"
      }
    },
    {
      "cell_type": "markdown",
      "source": [
        "Cambiamos de orden el 4 y el 5"
      ],
      "metadata": {
        "id": "lk4ofzkTQBvV"
      }
    }
  ],
  "metadata": {
    "colab": {
      "provenance": []
    },
    "kernelspec": {
      "display_name": "Python 3",
      "name": "python3"
    },
    "language_info": {
      "name": "python"
    }
  },
  "nbformat": 4,
  "nbformat_minor": 0
}