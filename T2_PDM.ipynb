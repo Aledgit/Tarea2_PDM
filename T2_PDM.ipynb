{
  "cells": [
    {
      "cell_type": "markdown",
      "metadata": {
        "id": "d7RbbAt_Aysx"
      },
      "source": [
        "# <img style=\"float: left; padding-right: 0.7cm; width: 3.0cm\" src=\"https://upload.wikimedia.org/wikipedia/commons/thumb/8/84/Escudo_de_la_Pontificia_Universidad_Cat%C3%B3lica_de_Chile.svg/179px-Escudo_de_la_Pontificia_Universidad_Cat%C3%B3lica_de_Chile.svg.png\">IIC2440 - Procesamiento de Datos Masivos\n",
        "Pontificia Universidad Católica de Chile<br>\n",
        "Semestre 2023-1<br>\n",
        "Profesores: Adrián Soto y Juan Reutter <br>\n",
        "Estudiantes: Eduardo Alvarez F y Javier Arriagada S\n",
        "\n",
        "----"
      ]
    },
    {
      "cell_type": "code",
      "execution_count": null,
      "metadata": {
        "colab": {
          "base_uri": "https://localhost:8080/"
        },
        "id": "Zj1Igz1qCaYn",
        "outputId": "1a6572ad-551e-4f3f-8755-5a177f6b836f"
      },
      "outputs": [
        {
          "output_type": "stream",
          "name": "stdout",
          "text": [
            "Looking in indexes: https://pypi.org/simple, https://us-python.pkg.dev/colab-wheels/public/simple/\n",
            "Collecting pyspark\n",
            "  Downloading pyspark-3.4.1.tar.gz (310.8 MB)\n",
            "\u001b[2K     \u001b[90m━━━━━━━━━━━━━━━━━━━━━━━━━━━━━━━━━━━━━━━\u001b[0m \u001b[32m310.8/310.8 MB\u001b[0m \u001b[31m3.8 MB/s\u001b[0m eta \u001b[36m0:00:00\u001b[0m\n",
            "\u001b[?25h  Preparing metadata (setup.py) ... \u001b[?25l\u001b[?25hdone\n",
            "Requirement already satisfied: py4j==0.10.9.7 in /usr/local/lib/python3.10/dist-packages (from pyspark) (0.10.9.7)\n",
            "Building wheels for collected packages: pyspark\n",
            "  Building wheel for pyspark (setup.py) ... \u001b[?25l\u001b[?25hdone\n",
            "  Created wheel for pyspark: filename=pyspark-3.4.1-py2.py3-none-any.whl size=311285398 sha256=03653326e9666778705b13b47285d9c1c0f9b2f8727165c657538bce219d4ae1\n",
            "  Stored in directory: /root/.cache/pip/wheels/0d/77/a3/ff2f74cc9ab41f8f594dabf0579c2a7c6de920d584206e0834\n",
            "Successfully built pyspark\n",
            "Installing collected packages: pyspark\n",
            "Successfully installed pyspark-3.4.1\n"
          ]
        }
      ],
      "source": [
        "!pip install pyspark"
      ]
    },
    {
      "cell_type": "code",
      "execution_count": null,
      "metadata": {
        "id": "gCSs3vNjAuDH"
      },
      "outputs": [],
      "source": [
        "from pyspark import SparkConf, SparkContext\n",
        "import numpy as np"
      ]
    },
    {
      "cell_type": "markdown",
      "metadata": {
        "id": "ErkCUhXFyNIO"
      },
      "source": [
        "# 1. Page Rank"
      ]
    },
    {
      "cell_type": "code",
      "execution_count": null,
      "metadata": {
        "id": "X0mNkx6jCqWO"
      },
      "outputs": [],
      "source": [
        "conf = SparkConf().setMaster(\"local\").setAppName(\"PageRank\")\n",
        "sc = SparkContext(conf = conf)"
      ]
    },
    {
      "cell_type": "code",
      "execution_count": null,
      "metadata": {
        "id": "csUrMuXFUsrK"
      },
      "outputs": [],
      "source": [
        "# Nodos iniciales\n",
        "nodes = [1, 2, 3, 4]\n",
        "edges = [(1,2), (2, 3), (2, 4), (3, 2)]"
      ]
    },
    {
      "cell_type": "code",
      "execution_count": null,
      "metadata": {
        "colab": {
          "base_uri": "https://localhost:8080/"
        },
        "id": "_QzYxE-dDASP",
        "outputId": "c67f65e0-cabe-46bb-835c-dc8e3e941c4c"
      },
      "outputs": [
        {
          "output_type": "execute_result",
          "data": {
            "text/plain": [
              "[(1, 0.25), (2, 0.25), (3, 0.25), (4, 0.25)]"
            ]
          },
          "metadata": {},
          "execution_count": 5
        }
      ],
      "source": [
        "# Crear RDD para nodos y edges\n",
        "nodes_rdd = sc.parallelize(nodes)\n",
        "edges_rdd = sc.parallelize(edges)\n",
        "\n",
        "n  = int(nodes_rdd.count())\n",
        "\n",
        "# Inicializar PageRank para cada nodo\n",
        "initial_pagerank = 1/n\n",
        "node_pageranks_rdd = nodes_rdd.map(lambda node: (node, initial_pagerank))\n",
        "\n",
        "# Mostrar el RDD con los PageRanks iniciales\n",
        "node_pageranks_rdd.collect()"
      ]
    },
    {
      "cell_type": "code",
      "execution_count": null,
      "metadata": {
        "id": "B2XWN_rCePDe"
      },
      "outputs": [],
      "source": [
        "# Obtener los vecinos de cada nodo\n",
        "node_neighbors_rdd = edges_rdd.groupByKey()"
      ]
    },
    {
      "cell_type": "code",
      "execution_count": null,
      "metadata": {
        "id": "f_K-yY3DfpXw"
      },
      "outputs": [],
      "source": [
        "def prepare_message(node, neighbors, pagerank):\n",
        "  n = len(neighbors)\n",
        "  messages = list()\n",
        "  if n > 0:\n",
        "    for neighbor in neighbors:\n",
        "      message = (neighbor, pagerank / n)\n",
        "      messages.append(message)\n",
        "\n",
        "  return messages"
      ]
    },
    {
      "cell_type": "code",
      "execution_count": null,
      "metadata": {
        "id": "Rb-_qemFhKpF"
      },
      "outputs": [],
      "source": [
        "messages_rdd = node_pageranks_rdd.join(node_neighbors_rdd).flatMap(lambda node: prepare_message(node[0], node[1][1], node[1][0])).collect()\n",
        "\n",
        "incoming = list(set([message[0] for message in messages_rdd]))\n",
        "non_incoming = [node for node in nodes if node not in incoming]\n",
        "\n",
        "for node in non_incoming:\n",
        "  messages_rdd.append((node, 0))\n",
        "\n",
        "messages_rdd = sc.parallelize(messages_rdd)"
      ]
    },
    {
      "cell_type": "code",
      "execution_count": null,
      "metadata": {
        "colab": {
          "base_uri": "https://localhost:8080/"
        },
        "id": "BCJrsbb_kEqv",
        "outputId": "efe82e0f-feba-4c2a-fad9-5ea92031ede8"
      },
      "outputs": [
        {
          "output_type": "execute_result",
          "data": {
            "text/plain": [
              "[(3, 0.125), (4, 0.125), (2, 0.5), (1, 0)]"
            ]
          },
          "metadata": {},
          "execution_count": 12
        }
      ],
      "source": [
        "node_received_messages_rdd = messages_rdd.reduceByKey(lambda x, y: x + y)\n",
        "node_received_messages_rdd.collect()"
      ]
    },
    {
      "cell_type": "code",
      "execution_count": null,
      "metadata": {
        "id": "Da4xoCypmfig"
      },
      "outputs": [],
      "source": [
        "damping_factor = 0.85\n",
        "\n",
        "def update_pagerank(node, pagerank, damping_factor, messages, n):\n",
        "    updated_pagerank = (1 - damping_factor)/n + damping_factor * messages\n",
        "    return (node, updated_pagerank)\n",
        "\n",
        "node_updated_pageranks_rdd = node_received_messages_rdd.join(node_pageranks_rdd) /.map(lambda node: update_pagerank(node[0], node[1][1], damping_factor, node[1][0], n))"
      ]
    },
    {
      "cell_type": "code",
      "execution_count": null,
      "metadata": {
        "colab": {
          "base_uri": "https://localhost:8080/"
        },
        "id": "uiXE-JkYaE0M",
        "outputId": "935b31c1-01c2-4bae-d948-9228ccd96672"
      },
      "outputs": [
        {
          "output_type": "execute_result",
          "data": {
            "text/plain": [
              "[(4, 0.14375), (2, 0.4625), (3, 0.14375), (1, 0.037500000000000006)]"
            ]
          },
          "metadata": {},
          "execution_count": 14
        }
      ],
      "source": [
        "node_updated_pageranks_rdd.collect()"
      ]
    },
    {
      "cell_type": "code",
      "execution_count": null,
      "metadata": {
        "id": "sGSxPaAqmr3s"
      },
      "outputs": [],
      "source": [
        "max_iterations = 15\n",
        "epsilon = 0.0001\n",
        "\n",
        "for iteration in range(max_iterations):\n",
        "\n",
        "  messages_rdd = node_pageranks_rdd.join(node_neighbors_rdd).flatMap(lambda node: prepare_message(node[0], node[1][1], node[1][0])).collect()\n",
        "  incoming = list(set([message[0] for message in messages_rdd]))\n",
        "  non_incoming = [node for node in nodes if node not in incoming]\n",
        "  for node in non_incoming:\n",
        "    messages_rdd.append((node, 0))\n",
        "  messages_rdd = sc.parallelize(messages_rdd)\n",
        "\n",
        "  node_received_messages_rdd = messages_rdd.reduceByKey(lambda x, y: x + y)\n",
        "  node_pageranks_rdd = node_received_messages_rdd.join(node_pageranks_rdd).map(lambda node: update_pagerank(node[0], node[1][1], damping_factor, node[1][0], n))\n",
        "\n",
        "  if iteration > 0:\n",
        "        prev_page_ranks_rdd = pageranks_rdd\n",
        "        diff = prev_page_ranks_rdd.join(node_pageranks_rdd).mapValues(lambda ranks: abs(ranks[0] - ranks[1])).values().sum()\n",
        "\n",
        "        if diff < epsilon:\n",
        "          break\n",
        "\n",
        "  pageranks_rdd = node_pageranks_rdd"
      ]
    },
    {
      "cell_type": "code",
      "execution_count": null,
      "metadata": {
        "colab": {
          "base_uri": "https://localhost:8080/"
        },
        "id": "WVCNG9Zx67gf",
        "outputId": "f0f8a53e-9a22-47bd-ffa5-4976207d75c6"
      },
      "outputs": [
        {
          "output_type": "stream",
          "name": "stdout",
          "text": [
            "Node: 1, PageRank: 0.037500000000000006\n",
            "Node: 2, PageRank: 0.15875678790883002\n",
            "Node: 3, PageRank: 0.10489912403485036\n",
            "Node: 4, PageRank: 0.10489912403485036\n"
          ]
        }
      ],
      "source": [
        "final_page_ranks = pageranks_rdd.collect()\n",
        "for node, rank in final_page_ranks:\n",
        "    print(\"Node: {}, PageRank: {}\".format(node, rank))"
      ]
    },
    {
      "cell_type": "markdown",
      "metadata": {
        "id": "aAG42mInyBMp"
      },
      "source": [
        "# 2. Single Source Shortest Path"
      ]
    },
    {
      "cell_type": "code",
      "execution_count": null,
      "metadata": {
        "id": "EFyOMGrUsAZ6"
      },
      "outputs": [],
      "source": [
        "nodes = [1, 2, 3, 4]\n",
        "edges = [(1,2,2), (2, 3, 10), (2, 4, 5), (3, 2, 9)]\n",
        "\n",
        "nodes_sssp_rdd = sc.parallelize(nodes)\n",
        "edges_sssp_rdd = sc.parallelize(edges)"
      ]
    },
    {
      "cell_type": "code",
      "execution_count": null,
      "metadata": {
        "id": "sFUy7et_c7ok"
      },
      "outputs": [],
      "source": [
        "def initial_values(node, initial_node):\n",
        "  if node != initial_node:\n",
        "    return (node, float('inf'))\n",
        "  return (node, 0)"
      ]
    },
    {
      "cell_type": "code",
      "execution_count": null,
      "metadata": {
        "id": "FJyqUBINyG-N"
      },
      "outputs": [],
      "source": [
        "initial_node = 2\n",
        "node_sssp_rdd = nodes_sssp_rdd.map(lambda node: initial_values(node, initial_node))"
      ]
    },
    {
      "cell_type": "code",
      "execution_count": null,
      "metadata": {
        "colab": {
          "base_uri": "https://localhost:8080/"
        },
        "id": "7CI8H61no6OH",
        "outputId": "4f2d6e84-4c55-492d-a55f-c616a1802b27"
      },
      "outputs": [
        {
          "output_type": "execute_result",
          "data": {
            "text/plain": [
              "[(1, inf), (2, 0), (3, inf), (4, inf)]"
            ]
          },
          "metadata": {},
          "execution_count": 21
        }
      ],
      "source": [
        "node_sssp_rdd.collect()"
      ]
    },
    {
      "cell_type": "code",
      "source": [
        "def prepare_message(edge):\n",
        "    src, dest, cost = edge\n",
        "    return [(dest, current_cost + cost) for (node, current_cost) in actual_costs_list if node == src and current_cost != float('inf')]\n",
        "\n",
        "def update_costs(node, costs):\n",
        "    current_cost = costs\n",
        "    if type(costs) == list():\n",
        "      current_cost = float('inf')\n",
        "      for cost in costs:\n",
        "          if cost < current_cost:\n",
        "              current_cost = cost\n",
        "    return (node, current_cost)"
      ],
      "metadata": {
        "id": "R7Uyw-QuC5Fa"
      },
      "execution_count": null,
      "outputs": []
    },
    {
      "cell_type": "code",
      "source": [
        "edges_sssp_rdd.collect()"
      ],
      "metadata": {
        "colab": {
          "base_uri": "https://localhost:8080/"
        },
        "id": "FO2Cr1UVFxkE",
        "outputId": "42e1910b-7350-454c-9020-39549c1b49ea"
      },
      "execution_count": null,
      "outputs": [
        {
          "output_type": "execute_result",
          "data": {
            "text/plain": [
              "[(1, 2, 2), (2, 3, 10), (2, 4, 5), (3, 2, 9)]"
            ]
          },
          "metadata": {},
          "execution_count": 73
        }
      ]
    },
    {
      "cell_type": "code",
      "source": [
        "messages = edges_sssp_rdd.flatMap(prepare_message)\n",
        "messages.collect()"
      ],
      "metadata": {
        "colab": {
          "base_uri": "https://localhost:8080/"
        },
        "id": "oVipwmajFQA6",
        "outputId": "8a36a2d8-6748-4d1a-9157-88d50b731d86"
      },
      "execution_count": null,
      "outputs": [
        {
          "output_type": "execute_result",
          "data": {
            "text/plain": [
              "[(3, 10), (4, 5)]"
            ]
          },
          "metadata": {},
          "execution_count": 74
        }
      ]
    },
    {
      "cell_type": "code",
      "source": [
        "actual_costs = node_sssp_rdd\n",
        "actual_costs.collectAsMap()"
      ],
      "metadata": {
        "colab": {
          "base_uri": "https://localhost:8080/"
        },
        "id": "DgLdCuQdHaH0",
        "outputId": "8d84253c-b1c9-46c7-a7ad-f74fdf6dc5e6"
      },
      "execution_count": null,
      "outputs": [
        {
          "output_type": "execute_result",
          "data": {
            "text/plain": [
              "{1: inf, 2: 0, 3: inf, 4: inf}"
            ]
          },
          "metadata": {},
          "execution_count": 88
        }
      ]
    },
    {
      "cell_type": "code",
      "source": [
        "max_iterations = 15\n",
        "iteration = 0\n",
        "convergence_threshold = 2\n",
        "consecutive_no_change = 0\n",
        "actual_costs_list = node_sssp_rdd.collect()\n",
        "actual_costs = node_sssp_rdd\n",
        "while consecutive_no_change < convergence_threshold and iteration < max_iterations:\n",
        "    # Genera los mensajes a partir de las aristas y los costos acumulados actuales\n",
        "    messages = edges_sssp_rdd.flatMap(prepare_message)\n",
        "\n",
        "    # Une los mensajes con los costos acumulados actuales y actualiza los costos\n",
        "    actual_costs = actual_costs.union(messages).reduceByKey(min).map(lambda x: update_costs(x[0], x[1]))\n",
        "    actual_costs_list = actual_costs.collect()\n",
        "\n",
        "    # Verifica si ha habido cambios en los costos acumulados\n",
        "    previous_costs = actual_costs.collectAsMap()\n",
        "    if previous_costs == actual_costs.collectAsMap():\n",
        "        consecutive_no_change += 1\n",
        "    else:\n",
        "        consecutive_no_change = 0\n",
        "\n",
        "    iteration += 1"
      ],
      "metadata": {
        "id": "8irhyvF2DvYe"
      },
      "execution_count": null,
      "outputs": []
    },
    {
      "cell_type": "code",
      "source": [
        "actual_costs.collect()"
      ],
      "metadata": {
        "colab": {
          "base_uri": "https://localhost:8080/"
        },
        "id": "aWZS4AzYIue-",
        "outputId": "52319803-215b-4d6c-bd1c-c612ec68179d"
      },
      "execution_count": null,
      "outputs": [
        {
          "output_type": "execute_result",
          "data": {
            "text/plain": [
              "[(3, 10), (4, 5), (1, inf), (2, 0)]"
            ]
          },
          "metadata": {},
          "execution_count": 95
        }
      ]
    },
    {
      "cell_type": "markdown",
      "source": [
        "# 3. Una estrategia general"
      ],
      "metadata": {
        "id": "9JBiiUTmqsgy"
      }
    },
    {
      "cell_type": "markdown",
      "source": [
        "1. Preparación de los nodos:\n",
        "\n",
        "Inicializar las propiedades de los nodos, como el valor de PageRank o la distancia más corta en el caso de SSSP.\n",
        "Asignar un identificador único a cada nodo del grafo.\n",
        "\n",
        "2. Regla para pasar mensajes entre nodos:\n",
        "\n",
        "En cada iteración del algoritmo, cada nodo envía mensajes a sus vecinos para compartir información.\n",
        "Los mensajes pueden contener información relevante para el cálculo, como el valor de PageRank actualizado o la distancia más corta encontrada.\n",
        "Los nodos reciben los mensajes enviados por sus vecinos y los utilizan para actualizar su información local.\n",
        "\n",
        "3. Definición de funciones para hacer merge de varios mensajes:\n",
        "\n",
        "Los nodos pueden recibir múltiples mensajes de diferentes vecinos en una iteración.\n",
        "Se debe definir una función de merge que combine los mensajes recibidos en uno solo, considerando la información relevante para el cálculo.\n",
        "Por ejemplo, en el caso de PageRank, los mensajes contienen contribuciones de los vecinos al PageRank del nodo receptor, y la función de merge sumaría estas contribuciones para obtener el nuevo valor de PageRank.\n",
        "\n",
        "4. Actualización de las propiedades de los nodos:\n",
        "\n",
        "Después de cada iteración, los nodos actualizan sus propiedades locales con la información recibida de los mensajes.\n",
        "Por ejemplo, en el caso de PageRank, los nodos actualizan su valor de PageRank con la suma de las contribuciones recibidas de los vecinos.\n",
        "\n",
        "5. Condiciones de término del algoritmo:\n",
        "\n",
        "Se debe establecer un criterio de convergencia para determinar cuándo el algoritmo ha terminado.\n",
        "Por ejemplo, en el caso de PageRank, se puede definir un umbral de cambio máximo en los valores de PageRank de los nodos.\n",
        "Si la diferencia entre los valores de PageRank de dos iteraciones consecutivas es menor que el umbral, se considera que el algoritmo ha convergido y se detiene.\n",
        "\n",
        "\n",
        "\n",
        "\n"
      ],
      "metadata": {
        "id": "OMSajcxnxYMv"
      }
    },
    {
      "cell_type": "code",
      "source": [],
      "metadata": {
        "id": "gKQ3IQ1lXKVq"
      },
      "execution_count": null,
      "outputs": []
    }
  ],
  "metadata": {
    "colab": {
      "provenance": []
    },
    "kernelspec": {
      "display_name": "Python 3",
      "name": "python3"
    },
    "language_info": {
      "name": "python"
    }
  },
  "nbformat": 4,
  "nbformat_minor": 0
}